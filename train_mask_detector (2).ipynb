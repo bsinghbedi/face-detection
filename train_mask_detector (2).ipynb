{
  "nbformat": 4,
  "nbformat_minor": 0,
  "metadata": {
    "colab": {
      "name": "train_mask_detector.ipynb",
      "provenance": [],
      "collapsed_sections": []
    },
    "kernelspec": {
      "name": "python3",
      "display_name": "Python 3"
    },
    "accelerator": "GPU"
  },
  "cells": [
    {
      "cell_type": "code",
      "metadata": {
        "id": "6UYKdbLq_M0s"
      },
      "source": [
        "from tensorflow.keras.preprocessing.image import ImageDataGenerator\n",
        "from tensorflow.keras.applications import MobileNetV2\n",
        "from tensorflow.keras.layers import AveragePooling2D\n",
        "from tensorflow.keras.layers import Dropout\n",
        "from tensorflow.keras.layers import Flatten\n",
        "from tensorflow.keras.layers import Dense\n",
        "from tensorflow.keras.layers import Input\n",
        "from tensorflow.keras.models import Model\n",
        "from tensorflow.keras.optimizers import Adam\n",
        "from tensorflow.keras.applications.mobilenet_v2 import preprocess_input\n",
        "from tensorflow.keras.preprocessing.image import img_to_array\n",
        "from tensorflow.keras.preprocessing.image import load_img\n",
        "from tensorflow.keras.utils import to_categorical\n",
        "from sklearn.preprocessing import LabelBinarizer\n",
        "from sklearn.model_selection import train_test_split\n",
        "from sklearn.metrics import classification_report\n",
        "from imutils import paths\n",
        "import matplotlib.pyplot as plt\n",
        "import numpy as np\n",
        "import argparse\n",
        "import os"
      ],
      "execution_count": 1,
      "outputs": []
    },
    {
      "cell_type": "code",
      "metadata": {
        "id": "E2ofyOK6_R8y"
      },
      "source": [
        "INIT_LR = 1e-4\n",
        "EPOCHS = 20\n",
        "BS = 32"
      ],
      "execution_count": 2,
      "outputs": []
    },
    {
      "cell_type": "code",
      "metadata": {
        "colab": {
          "base_uri": "https://localhost:8080/"
        },
        "id": "ay2v_1yg_YBb",
        "outputId": "50eb179f-3593-4f4f-9f50-a730d6122f59"
      },
      "source": [
        "# grab the list of images in our dataset directory, then initialize\n",
        "# the list of data (i.e., images) and class images\n",
        "pathname = \"/content/drive/MyDrive/dataset\"\n",
        "print(\"[INFO] loading images...\")\n",
        "imagePaths = list(paths.list_images(pathname))\n",
        "data = []\n",
        "labels = []"
      ],
      "execution_count": 4,
      "outputs": [
        {
          "output_type": "stream",
          "name": "stdout",
          "text": [
            "[INFO] loading images...\n"
          ]
        }
      ]
    },
    {
      "cell_type": "code",
      "metadata": {
        "colab": {
          "base_uri": "https://localhost:8080/"
        },
        "id": "azTtTQr3A1dS",
        "outputId": "f56be0ae-4824-4319-fdfd-516b3b95be81"
      },
      "source": [
        "# loop over the image paths\n",
        "for imagePath in imagePaths:\n",
        "\t# extract the class label from the filename\n",
        "\tlabel = imagePath.split(os.path.sep)[-2]\n",
        "\n",
        "\t# load the input image (224x224) and preprocess it\n",
        "\timage = load_img(imagePath, target_size=(224, 224))\n",
        "\timage = img_to_array(image)\n",
        "\timage = preprocess_input(image)\n",
        "\n",
        "\t# update the data and labels lists, respectively\n",
        "\tdata.append(image)\n",
        "\tlabels.append(label)\n",
        "\n",
        "# convert the data and labels to NumPy arrays\n",
        "data = np.array(data, dtype=\"float32\")\n",
        "labels = np.array(labels)\n",
        "\n",
        "# perform one-hot encoding on the labels\n",
        "lb = LabelBinarizer()\n",
        "labels = lb.fit_transform(labels)\n",
        "labels = to_categorical(labels)"
      ],
      "execution_count": 5,
      "outputs": [
        {
          "output_type": "stream",
          "name": "stderr",
          "text": [
            "/usr/local/lib/python3.7/dist-packages/PIL/Image.py:960: UserWarning: Palette images with Transparency expressed in bytes should be converted to RGBA images\n",
            "  \"Palette images with Transparency expressed in bytes should be \"\n"
          ]
        }
      ]
    },
    {
      "cell_type": "code",
      "metadata": {
        "id": "1G3wTsaSCAT-"
      },
      "source": [
        "# partition the data into training and testing splits using 80% of\n",
        "# the data for training and the remaining 20% for testing\n",
        "(trainX, testX, trainY, testY) = train_test_split(data, labels,\n",
        "\ttest_size=0.20, stratify=labels, random_state=42)\n",
        "\n",
        "# construct the training image generator for data augmentation\n",
        "aug = ImageDataGenerator(\n",
        "\trotation_range=20,\n",
        "\tzoom_range=0.15,\n",
        "\twidth_shift_range=0.2,\n",
        "\theight_shift_range=0.2,\n",
        "\tshear_range=0.15,\n",
        "\thorizontal_flip=True,\n",
        "\tfill_mode=\"nearest\")"
      ],
      "execution_count": 6,
      "outputs": []
    },
    {
      "cell_type": "code",
      "metadata": {
        "id": "PpKUOJZicLVj",
        "outputId": "36c6ce36-2d74-481c-eb25-fac94ca5efc4",
        "colab": {
          "base_uri": "https://localhost:8080/"
        }
      },
      "source": [
        "from google.colab import drive\n",
        "drive.mount('/content/drive')"
      ],
      "execution_count": 3,
      "outputs": [
        {
          "output_type": "stream",
          "name": "stdout",
          "text": [
            "Mounted at /content/drive\n"
          ]
        }
      ]
    },
    {
      "cell_type": "code",
      "metadata": {
        "colab": {
          "base_uri": "https://localhost:8080/"
        },
        "id": "usLD2GE0CFDg",
        "outputId": "0d5d5ae8-49c8-4ee3-d74e-088280f98a65"
      },
      "source": [
        "# load the MobileNetV2 network, ensuring the head FC layer sets are\n",
        "# left off\n",
        "baseModel = MobileNetV2(weights=\"imagenet\", include_top=False,\n",
        "\tinput_tensor=Input(shape=(224, 224, 3)))\n",
        "\n",
        "# construct the head of the model that will be placed on top of the\n",
        "# the base model\n",
        "headModel = baseModel.output\n",
        "headModel = AveragePooling2D(pool_size=(7, 7))(headModel)\n",
        "headModel = Flatten(name=\"flatten\")(headModel)\n",
        "headModel = Dense(128, activation=\"relu\")(headModel)\n",
        "headModel = Dropout(0.5)(headModel)\n",
        "headModel = Dense(2, activation=\"softmax\")(headModel)\n",
        "\n",
        "# place the head FC model on top of the base model (this will become\n",
        "# the actual model we will train)\n",
        "model = Model(inputs=baseModel.input, outputs=headModel)"
      ],
      "execution_count": 7,
      "outputs": [
        {
          "output_type": "stream",
          "name": "stdout",
          "text": [
            "WARNING:tensorflow:`input_shape` is undefined or non-square, or `rows` is not in [96, 128, 160, 192, 224]. Weights for input shape (224, 224) will be loaded as the default.\n",
            "Downloading data from https://storage.googleapis.com/tensorflow/keras-applications/mobilenet_v2/mobilenet_v2_weights_tf_dim_ordering_tf_kernels_1.0_224_no_top.h5\n",
            "9412608/9406464 [==============================] - 0s 0us/step\n",
            "9420800/9406464 [==============================] - 0s 0us/step\n"
          ]
        }
      ]
    },
    {
      "cell_type": "code",
      "metadata": {
        "colab": {
          "base_uri": "https://localhost:8080/"
        },
        "id": "76RYIVUfCL8l",
        "outputId": "2217cff5-31c5-480c-ff93-cb0140b81da3"
      },
      "source": [
        "# loop over all layers in the base model and freeze them so they will\n",
        "# *not* be updated during the first training process\n",
        "for layer in baseModel.layers:\n",
        "\tlayer.trainable = False\n",
        "\n",
        "# compile our model\n",
        "print(\"[INFO] compiling model...\")\n",
        "opt = Adam(lr=INIT_LR, decay=INIT_LR / EPOCHS)\n",
        "model.compile(loss=\"binary_crossentropy\", optimizer=opt,\n",
        "\tmetrics=[\"accuracy\"])"
      ],
      "execution_count": 8,
      "outputs": [
        {
          "output_type": "stream",
          "name": "stdout",
          "text": [
            "[INFO] compiling model...\n"
          ]
        },
        {
          "output_type": "stream",
          "name": "stderr",
          "text": [
            "/usr/local/lib/python3.7/dist-packages/keras/optimizer_v2/optimizer_v2.py:356: UserWarning: The `lr` argument is deprecated, use `learning_rate` instead.\n",
            "  \"The `lr` argument is deprecated, use `learning_rate` instead.\")\n"
          ]
        }
      ]
    },
    {
      "cell_type": "code",
      "metadata": {
        "colab": {
          "base_uri": "https://localhost:8080/"
        },
        "id": "niDxYr_-CRru",
        "outputId": "5ba8449b-bf6d-48d6-c006-3092ae5d8496"
      },
      "source": [
        "# train the head of the network\n",
        "print(\"[INFO] training head...\")\n",
        "H = model.fit(\n",
        "\taug.flow(trainX, trainY, batch_size=BS),\n",
        "\tsteps_per_epoch=len(trainX) // BS,\n",
        "\tvalidation_data=(testX, testY),\n",
        "\tvalidation_steps=len(testX) // BS,\n",
        "\tepochs=EPOCHS)"
      ],
      "execution_count": 9,
      "outputs": [
        {
          "output_type": "stream",
          "name": "stdout",
          "text": [
            "[INFO] training head...\n",
            "Epoch 1/20\n",
            "102/102 [==============================] - 78s 454ms/step - loss: 0.4113 - accuracy: 0.8383 - val_loss: 0.1561 - val_accuracy: 0.9658\n",
            "Epoch 2/20\n",
            "102/102 [==============================] - 44s 429ms/step - loss: 0.1439 - accuracy: 0.9605 - val_loss: 0.0959 - val_accuracy: 0.9707\n",
            "Epoch 3/20\n",
            "102/102 [==============================] - 44s 428ms/step - loss: 0.0948 - accuracy: 0.9719 - val_loss: 0.0802 - val_accuracy: 0.9719\n",
            "Epoch 4/20\n",
            "102/102 [==============================] - 43s 425ms/step - loss: 0.0720 - accuracy: 0.9793 - val_loss: 0.0704 - val_accuracy: 0.9731\n",
            "Epoch 5/20\n",
            "102/102 [==============================] - 43s 426ms/step - loss: 0.0735 - accuracy: 0.9796 - val_loss: 0.0649 - val_accuracy: 0.9744\n",
            "Epoch 6/20\n",
            "102/102 [==============================] - 43s 425ms/step - loss: 0.0560 - accuracy: 0.9827 - val_loss: 0.0599 - val_accuracy: 0.9768\n",
            "Epoch 7/20\n",
            "102/102 [==============================] - 44s 426ms/step - loss: 0.0541 - accuracy: 0.9852 - val_loss: 0.0564 - val_accuracy: 0.9780\n",
            "Epoch 8/20\n",
            "102/102 [==============================] - 43s 426ms/step - loss: 0.0432 - accuracy: 0.9886 - val_loss: 0.0553 - val_accuracy: 0.9768\n",
            "Epoch 9/20\n",
            "102/102 [==============================] - 43s 425ms/step - loss: 0.0445 - accuracy: 0.9861 - val_loss: 0.0559 - val_accuracy: 0.9756\n",
            "Epoch 10/20\n",
            "102/102 [==============================] - 43s 422ms/step - loss: 0.0393 - accuracy: 0.9880 - val_loss: 0.0506 - val_accuracy: 0.9768\n",
            "Epoch 11/20\n",
            "102/102 [==============================] - 42s 415ms/step - loss: 0.0406 - accuracy: 0.9861 - val_loss: 0.0497 - val_accuracy: 0.9780\n",
            "Epoch 12/20\n",
            "102/102 [==============================] - 43s 419ms/step - loss: 0.0339 - accuracy: 0.9889 - val_loss: 0.0472 - val_accuracy: 0.9780\n",
            "Epoch 13/20\n",
            "102/102 [==============================] - 43s 421ms/step - loss: 0.0402 - accuracy: 0.9849 - val_loss: 0.0480 - val_accuracy: 0.9805\n",
            "Epoch 14/20\n",
            "102/102 [==============================] - 43s 421ms/step - loss: 0.0371 - accuracy: 0.9889 - val_loss: 0.0446 - val_accuracy: 0.9817\n",
            "Epoch 15/20\n",
            "102/102 [==============================] - 43s 423ms/step - loss: 0.0322 - accuracy: 0.9883 - val_loss: 0.0514 - val_accuracy: 0.9817\n",
            "Epoch 16/20\n",
            "102/102 [==============================] - 44s 427ms/step - loss: 0.0342 - accuracy: 0.9895 - val_loss: 0.0428 - val_accuracy: 0.9817\n",
            "Epoch 17/20\n",
            "102/102 [==============================] - 44s 430ms/step - loss: 0.0271 - accuracy: 0.9926 - val_loss: 0.0410 - val_accuracy: 0.9817\n",
            "Epoch 18/20\n",
            "102/102 [==============================] - 43s 424ms/step - loss: 0.0349 - accuracy: 0.9911 - val_loss: 0.0385 - val_accuracy: 0.9817\n",
            "Epoch 19/20\n",
            "102/102 [==============================] - 44s 428ms/step - loss: 0.0348 - accuracy: 0.9886 - val_loss: 0.0428 - val_accuracy: 0.9853\n",
            "Epoch 20/20\n",
            "102/102 [==============================] - 43s 419ms/step - loss: 0.0266 - accuracy: 0.9932 - val_loss: 0.0362 - val_accuracy: 0.9817\n"
          ]
        }
      ]
    },
    {
      "cell_type": "code",
      "metadata": {
        "colab": {
          "base_uri": "https://localhost:8080/"
        },
        "id": "jLQkBl8bCWE2",
        "outputId": "f5be8dc3-35cc-4af8-80b6-40b1ab0e91f0"
      },
      "source": [
        "# make predictions on the testing set\n",
        "print(\"[INFO] evaluating network...\")\n",
        "predIdxs = model.predict(testX, batch_size=BS)\n",
        "\n",
        "# for each image in the testing set we need to find the index of the\n",
        "# label with corresponding largest predicted probability\n",
        "predIdxs = np.argmax(predIdxs, axis=1)\n",
        "\n",
        "# show a nicely formatted classification report\n",
        "print(classification_report(testY.argmax(axis=1), predIdxs,\n",
        "\ttarget_names=lb.classes_))\n",
        "\n",
        "# serialize the model to disk\n",
        "print(\"[INFO] saving mask detector model...\")\n",
        "model.save(\"/content/drive/MyDrive/mask_detector\", save_format=\"h5\")"
      ],
      "execution_count": 10,
      "outputs": [
        {
          "output_type": "stream",
          "name": "stdout",
          "text": [
            "[INFO] evaluating network...\n",
            "              precision    recall  f1-score   support\n",
            "\n",
            "   with_mask       0.98      0.98      0.98       433\n",
            "without_mask       0.98      0.98      0.98       386\n",
            "\n",
            "    accuracy                           0.98       819\n",
            "   macro avg       0.98      0.98      0.98       819\n",
            "weighted avg       0.98      0.98      0.98       819\n",
            "\n",
            "[INFO] saving mask detector model...\n"
          ]
        },
        {
          "output_type": "stream",
          "name": "stderr",
          "text": [
            "/usr/local/lib/python3.7/dist-packages/keras/utils/generic_utils.py:497: CustomMaskWarning: Custom mask layers require a config and must override get_config. When loading, the custom mask layer must be passed to the custom_objects argument.\n",
            "  category=CustomMaskWarning)\n"
          ]
        }
      ]
    },
    {
      "cell_type": "code",
      "metadata": {
        "colab": {
          "base_uri": "https://localhost:8080/",
          "height": 299
        },
        "id": "Ny_G0O0zCbMN",
        "outputId": "2b76f235-d3c8-468f-c28b-1384dee4c7b9"
      },
      "source": [
        "# plot the training loss and accuracy\n",
        "N = EPOCHS\n",
        "plt.style.use(\"ggplot\")\n",
        "plt.figure()\n",
        "plt.plot(np.arange(0, N), H.history[\"loss\"], label=\"train_loss\")\n",
        "plt.plot(np.arange(0, N), H.history[\"val_loss\"], label=\"val_loss\")\n",
        "plt.plot(np.arange(0, N), H.history[\"accuracy\"], label=\"train_acc\")\n",
        "plt.plot(np.arange(0, N), H.history[\"val_accuracy\"], label=\"val_acc\")\n",
        "plt.title(\"Training Loss and Accuracy\")\n",
        "plt.xlabel(\"Epoch #\")\n",
        "plt.ylabel(\"Loss/Accuracy\")\n",
        "plt.legend(loc=\"lower left\")\n",
        "plt.savefig(\"/content/drive/MyDrive/plot\")"
      ],
      "execution_count": 11,
      "outputs": [
        {
          "output_type": "display_data",
          "data": {
            "image/png": "[encoded data removed]",
            "text/plain": [
              "<Figure size 432x288 with 1 Axes>"
            ]
          },
          "metadata": {}
        }
      ]
    },
    {
      "cell_type": "code",
      "metadata": {
        "id": "2tTqHr_5Ce98"
      },
      "source": [
        ""
      ],
      "execution_count": null,
      "outputs": []
    }
  ]
}